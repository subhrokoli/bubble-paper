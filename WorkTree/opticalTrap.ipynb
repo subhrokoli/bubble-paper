{
 "metadata": {
  "name": "",
  "signature": "sha256:d31f3e02a125838e04b8a15c1fe55647299b84e162be8f6bc29c94fa31cd54eb"
 },
 "nbformat": 3,
 "nbformat_minor": 0,
 "worksheets": [
  {
   "cells": [
    {
     "cell_type": "markdown",
     "metadata": {},
     "source": [
      "## Dynamics in a harmonic trap\n",
      "\n",
      "The equation of motion of the center of masses of two particles, driven by external forcing and harmonically confined using optical trap, is\n",
      "\n",
      "$$\n",
      "\\dot{\\mathbf{R}_1} = \\mu_{11}  (-k_1 \\mathbf{R}_1 + \\mathbf{F}_1) + \\mu_{12}(-k_2 \\mathbf{R}_2 + \\mathbf{F}_2)\n",
      "$$\n",
      "\n",
      "$$\n",
      "\\dot{ \\mathbf{R}_2} = \\mu_{22}  (-k_2 \\mathbf{R}_2 + \\mathbf{F}_2) + \\mu_{21}(-k_1 \\mathbf{R}_1 + \\mathbf{F}_1)\n",
      "$$\n",
      "\n",
      "where, \n",
      "\n",
      "$$\n",
      "\\mu_{ii} = \\frac{1}{(6\\pi\\eta a)}\n",
      "$$\n",
      "\n",
      "$$\n",
      "\\mu_{ij} =  \\mathbb{F}^0 \\mathbb{F}^0\\mathbf{G} (\\mathbf{R}_2- \\mathbf{R}_1), \\qquad i\\neq j\n",
      "$$\n",
      "\n",
      "\n",
      "where $\\mathbb{F}^0 = (1 + \\frac{a^2}{6}\\nabla^2)$ is the Faxen correction. Lets consider the first particle without any hydrodynamic interaction to get the scales of the system,\n",
      "\n",
      "$$\\dot{\\mathbf{R}}_1 + \\mu k \\mathbf{R}_1 = \\mu \\mathbf{F}$$\n",
      "\n",
      "with the solution,\n",
      "\n",
      "$$\\mathbf{R}_1(t)  = \\mathbf{R}_1 (0) e^{-\\Gamma t} + \\mu \\int_{0}^{t} e^{\\Gamma (s-t)} \\mathbf{F}(s)ds $$\n",
      "\n",
      "Here, $\\Gamma = \\mu k = \\frac{k}{6 \\pi \\eta a}$ is a rate associated with the relaxation of the particle. The rate increases with the stiffness of the trap and decreases with the viscosity and the size of the particle. Assuming the time scale of the external forcing to be $\\tau$, the dynamics has three distinct regimes, $\\Gamma\\tau \\gg 1$, $\\Gamma\\tau \\sim 1$, $\\Gamma\\tau \\ll 1$. We explore these three regimes below. We import some useful modules before beginning the simulation. \n",
      "\n",
      "We define three dimensionless numbers,\n",
      "$$\n",
      "\\lambda_1 = \\frac{k_1 \\tau}{\\eta a}\n",
      "$$\n",
      "\n",
      "$$\n",
      "\\lambda_2 = \\frac{k_2 \\tau}{\\eta a}\n",
      "$$\n",
      "\n",
      "$$\n",
      "\\lambda_3 = \\frac{f_0 \\tau}{\\eta a2}\n",
      "$$\n",
      "where, $f_0$ is the strength of the driving signal. The user is supposed to supply these three numbers based on the experimental paramaters. The length is rescaled in terms of particle's radius and time is rescaled in terms of the signal time period."
     ]
    },
    {
     "cell_type": "code",
     "collapsed": false,
     "input": [
      "from __future__ import division\n",
      "import numpy as np\n",
      "import opticalTrap\n",
      "import scipy.io as sio \n",
      "\n",
      "#Parameters\n",
      "a, Np = 1, 2                    # radius, number of particles               \n",
      "ljrmin, ljeps  = 3.0, 0.0001    # Lennard jones parameters\n",
      "sForm, tau = 1, 1/8              # signal specification\n",
      "\n",
      "#dimensionless numbers\n",
      "lmda1, lmda2, lmda3 = 3060/8, 2156/8, 1040/8            # see the notes\n",
      "\n",
      "# instantiate the optical trap\n",
      "rm = opticalTrap.Rbm(a, Np, ljeps, ljrmin, sForm, tau, lmda1, lmda2, lmda3)\n",
      "\n",
      "\n",
      "# initialise the system. \n",
      "x0 = np.zeros(Np*3);       #memory allocation\n",
      "x0[0], x0[1], x0[2]  = -2.5, 0.0, 0.0         #Initial condition of first particle\n",
      "x0[3], x0[4], x0[5]  = 2.5, 0.0, 0.0         # second particle displaced by 5a     \n",
      "\n",
      "## now initialise the system\n",
      "rm.initialise(x0)\n",
      "\n",
      "\n",
      "# simulate the resulting system\n",
      "T, nsteps = 10*tau, 500\n",
      "filename='Np=2.mat'\n",
      "\n",
      "rm.simulate(T, nsteps, filename)"
     ],
     "language": "python",
     "metadata": {},
     "outputs": [
      {
       "ename": "ImportError",
       "evalue": "No module named opticalTrap",
       "output_type": "pyerr",
       "traceback": [
        "\u001b[0;31m---------------------------------------------------------------------------\u001b[0m\n\u001b[0;31mImportError\u001b[0m                               Traceback (most recent call last)",
        "\u001b[0;32m<ipython-input-1-3eaca840aff0>\u001b[0m in \u001b[0;36m<module>\u001b[0;34m()\u001b[0m\n\u001b[1;32m      1\u001b[0m \u001b[0;32mfrom\u001b[0m \u001b[0m__future__\u001b[0m \u001b[0;32mimport\u001b[0m \u001b[0mdivision\u001b[0m\u001b[0;34m\u001b[0m\u001b[0m\n\u001b[1;32m      2\u001b[0m \u001b[0;32mimport\u001b[0m \u001b[0mnumpy\u001b[0m \u001b[0;32mas\u001b[0m \u001b[0mnp\u001b[0m\u001b[0;34m\u001b[0m\u001b[0m\n\u001b[0;32m----> 3\u001b[0;31m \u001b[0;32mimport\u001b[0m \u001b[0mopticalTrap\u001b[0m\u001b[0;34m\u001b[0m\u001b[0m\n\u001b[0m\u001b[1;32m      4\u001b[0m \u001b[0;32mimport\u001b[0m \u001b[0mscipy\u001b[0m\u001b[0;34m.\u001b[0m\u001b[0mio\u001b[0m \u001b[0;32mas\u001b[0m \u001b[0msio\u001b[0m\u001b[0;34m\u001b[0m\u001b[0m\n\u001b[1;32m      5\u001b[0m \u001b[0;34m\u001b[0m\u001b[0m\n",
        "\u001b[0;31mImportError\u001b[0m: No module named opticalTrap"
       ]
      }
     ],
     "prompt_number": 1
    },
    {
     "cell_type": "code",
     "collapsed": false,
     "input": [
      "## Load the data and reconstruct the force\n",
      "import scipy.io as sio\n",
      "from scipy.signal import square\n",
      "\n",
      "data  = sio.loadmat('Np=2.mat')\n",
      "X     = data['X']\n",
      "tm    = data['t']\n",
      "NN = np.size(X[:, 1]); t = tm.reshape(NN)\n",
      "F = lmda3*square(2*pi*t/tau)"
     ],
     "language": "python",
     "metadata": {},
     "outputs": []
    },
    {
     "cell_type": "code",
     "collapsed": false,
     "input": [
      "# Now plot the results\n",
      "f = plt.figure(num=None, figsize=(18, 6), dpi=80, facecolor='w', edgecolor='k')\n",
      "f.add_subplot(1, 2, 1) \n",
      "plot(t, 0.002*F, t, X[:,0]- np.mean(X[10:,0]), linewidth=2)\n",
      "xlabel(r'$t/\\tau$', fontsize=20)\n",
      "ylabel('position and force of first particle',fontsize=16);\n",
      "xlim([5*tau, 8*tau]); #ylim([-1.2, 1.2])\n",
      "legend( ('Force', 'Particle1'), loc='lower left')\n",
      "\n",
      "f.add_subplot(1, 2, 2) \n",
      "plot(t, 0.002*F , t , X[:, 0] - np.mean(X[10:,0]), t , X[:, 3] - np.mean(X[10:,3]), linewidth=2) \n",
      "xlabel(r'$t/\\tau$', fontsize=20);\n",
      "xlim([5*tau, 8*tau]); #ylim([-1.2, 1.2])\n",
      "ylabel('Position about the mean',fontsize=16)\n",
      "legend( ('Force', 'Particle1', 'Particle2'), loc='lower left');"
     ],
     "language": "python",
     "metadata": {},
     "outputs": []
    }
   ],
   "metadata": {}
  }
 ]
}