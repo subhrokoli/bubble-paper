{
 "metadata": {
  "name": "",
  "signature": "sha256:75abb3477a644983e31e12c5f8c16820bada48a4abf84721c0b5b443856bf5f7"
 },
 "nbformat": 3,
 "nbformat_minor": 0,
 "worksheets": [
  {
   "cells": [
    {
     "cell_type": "markdown",
     "metadata": {},
     "source": [
      "## Dynamics in a harmonic trap\n",
      "\n",
      "The equation of motion of the center of masses of two particles, driven by external forcing and harmonically confined using optical trap, is\n",
      "\n",
      "$$\n",
      "\\dot{\\mathbf{R}_1} = \\mu_{11}  (-k_1 \\mathbf{R}_1 + \\mathbf{F}_1) + \\mu_{12}(-k_2 \\mathbf{R}_2 + \\mathbf{F}_2)\n",
      "$$\n",
      "\n",
      "$$\n",
      "\\dot{ \\mathbf{R}_2} = \\mu_{22}  (-k_2 \\mathbf{R}_2 + \\mathbf{F}_2) + \\mu_{21}(-k_1 \\mathbf{R}_1 + \\mathbf{F}_1)\n",
      "$$\n",
      "\n",
      "where, \n",
      "\n",
      "$$\n",
      "\\mu_{ii} = \\frac{1}{(6\\pi\\eta a)}\n",
      "$$\n",
      "\n",
      "$$\n",
      "\\mu_{ij} =  \\mathbb{F}^0 \\mathbb{F}^0\\mathbf{G} (\\mathbf{R}_2- \\mathbf{R}_1), \\qquad i\\neq j\n",
      "$$\n",
      "\n",
      "\n",
      "where $\\mathbb{F}^0 = (1 + \\frac{a^2}{6}\\nabla^2)$ is the Faxen correction. Lets consider the first particle without any hydrodynamic interaction to get the scales of the system,\n",
      "\n",
      "$$\\dot{\\mathbf{R}}_1 + \\mu k \\mathbf{R}_1 = \\mu \\mathbf{F}$$\n",
      "\n",
      "with the solution,\n",
      "\n",
      "$$\\mathbf{R}_1(t)  = \\mathbf{R}_1 (0) e^{-\\Gamma t} + \\mu \\int_{0}^{t} e^{\\Gamma (s-t)} \\mathbf{F}(s)ds $$\n",
      "\n",
      "Here, $\\Gamma = \\mu k = \\frac{k}{6 \\pi \\eta a}$ is a rate associated with the relaxation of the particle. The rate increases with the stiffness of the trap and decreases with the viscosity and the size of the particle. Assuming the time scale of the external forcing to be $\\tau$, the dynamics has three distinct regimes, $\\Gamma\\tau \\gg 1$, $\\Gamma\\tau \\sim 1$, $\\Gamma\\tau \\ll 1$. We explore these three regimes below. We import some useful modules before beginning the simulation. \n",
      "\n",
      "We define three dimensionless numbers,\n",
      "$$\n",
      "\\lambda_1 = \\frac{k_1 \\tau}{\\eta a}\n",
      "$$\n",
      "\n",
      "$$\n",
      "\\lambda_2 = \\frac{k_2 \\tau}{\\eta a}\n",
      "$$\n",
      "\n",
      "$$\n",
      "\\lambda_3 = \\frac{f_0 \\tau}{\\eta a2}\n",
      "$$\n",
      "where, $f_0$ is the strength of the driving signal. The user is supposed to supply these three numbers based on the experimental paramaters. The length is rescaled in terms of particle's radius and time is rescaled in terms of the signal time period."
     ]
    },
    {
     "cell_type": "code",
     "collapsed": false,
     "input": [
      "from __future__ import division\n",
      "import numpy as np\n",
      "import matplotlib.pyplot as plt\n"
     ],
     "language": "python",
     "metadata": {},
     "outputs": [],
     "prompt_number": 1
    },
    {
     "cell_type": "code",
     "collapsed": false,
     "input": [
      "pi = np.pi\n",
      "N = 1024 # number of Fourier modes\n",
      "T = 1.0 # period of forcing\n",
      "w = 2*pi/T\n",
      "gamma = 1\n",
      "\n",
      "N_t = 128 # number of time sampling points\n",
      "t = np.linspace(0, 3*T, N_t)\n",
      "f = np.zeros(N_t)\n",
      "g = np.zeros(N_t)\n",
      "\n",
      "\n",
      "for n in np.arange(1, N, 2):\n",
      "    f = f + np.sin(n*w*t)/n\n",
      "    phi = np.arctan(n*w/gamma)\n",
      "    chi = np.sqrt((w*n)**2 + gamma**2)\n",
      "    g = g + (np.sin(n*w*t - phi)/n)/chi\n",
      "    \n",
      "g = 2.0*g"
     ],
     "language": "python",
     "metadata": {},
     "outputs": [],
     "prompt_number": 56
    },
    {
     "cell_type": "code",
     "collapsed": false,
     "input": [
      "plt.plot(t, f)\n",
      "plt.plot(t, g)"
     ],
     "language": "python",
     "metadata": {},
     "outputs": [
      {
       "metadata": {},
       "output_type": "pyout",
       "prompt_number": 57,
       "text": [
        "[<matplotlib.lines.Line2D at 0x108b223d0>]"
       ]
      },
      {
       "metadata": {},
       "output_type": "display_data",
       "png": "[encoded data removed]",
       "text": [
        "<matplotlib.figure.Figure at 0x108b22510>"
       ]
      }
     ],
     "prompt_number": 57
    },
    {
     "cell_type": "code",
     "collapsed": false,
     "input": [],
     "language": "python",
     "metadata": {},
     "outputs": []
    }
   ],
   "metadata": {}
  }
 ]
}