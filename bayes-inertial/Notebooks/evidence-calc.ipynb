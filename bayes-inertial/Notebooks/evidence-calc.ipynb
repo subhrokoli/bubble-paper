{
 "cells": [
  {
   "cell_type": "code",
   "execution_count": 6,
   "metadata": {
    "collapsed": true
   },
   "outputs": [],
   "source": [
    "%matplotlib inline\n",
    "from __future__ import division\n",
    "import numpy as np\n",
    "import matplotlib.pyplot as plt"
   ]
  },
  {
   "cell_type": "code",
   "execution_count": 7,
   "metadata": {
    "collapsed": false
   },
   "outputs": [],
   "source": [
    "## parameters, UD=underdamped, OD=overdamped\n",
    "N   = 2**18            # # of data points\n",
    "m   = 1                # mass\n",
    "T   = 1                # temperature\n",
    "k   = 1                # stiffness\n",
    "k_B = 1                # Boltzmann constant\n",
    "f_s = 1                # sampling frequency\n",
    "dt  = 1/f_s            # step size\n",
    "g_c = np.sqrt(4*m*k)   # gamma critical\n",
    "g_f = .5               # <1 for UD and >1 for OD\n",
    "g   = g_c*g_f          # gamma\n",
    "w0  = np.sqrt(k/m)     # frequency of UD motion\n",
    "tau = m/g              # relaxation time\n",
    "D   = k_B*T/g          # diffusion constant\n",
    "\n",
    "if g_f >1:\n",
    "    w = 1j*np.sqrt(-(w0**2)+(1/(4*tau*tau))) \n",
    "else:\n",
    "    w = np.sqrt((w0**2)-(1/(4*tau*tau)))\n",
    "\n",
    "params = (N, dt, w, w0, tau)"
   ]
  },
  {
   "cell_type": "code",
   "execution_count": 8,
   "metadata": {
    "collapsed": false
   },
   "outputs": [],
   "source": [
    "def calcVarM(params):\n",
    "    N, dt, w, w0, tau = params\n",
    "    tt   = 2*w*dt;  w02  = w0*w0;  w2 = w*w\n",
    "    tau2 = tau*tau; tau3 = tau2*tau; dtbt=-dt/tau\n",
    "    wt2=w2*tau2; dd=D/(wt2); dd1=dd/(4*w02*tau); dd2=dd/(4*tau)\n",
    "\n",
    "    ss1 = np.cos(tt) - (2*w*tau*np.sin(tt)) - (4*w02*tau2)\n",
    "    ss2 = np.cos(tt) + (2*w*tau*np.sin(tt)) - (4*w02*tau2)\n",
    "\n",
    "    sigma2_xx = dd1*(4*w2*tau2 + np.exp(dtbt)*ss1)\n",
    "    sigma2_vv = dd2*(4*w2*tau2 + np.exp(dtbt)*ss2)\n",
    "    sigma2_xv = dd*np.exp(dtbt)*np.sin(w*dt)*np.sin(w*dt)\n",
    "    return np.real(sigma2_xx), np.real(sigma2_vv), np.real(sigma2_xv)    \n",
    "\n",
    "\n",
    "\n",
    "def calcExpM(params):\n",
    "    N, dt, w, w0, tau = params\n",
    "    I = np.eye(2)\n",
    "    J11 =(1/(2*w*tau))\n",
    "    J12 = (1/w)\n",
    "    J21 = -(w0**2)/w\n",
    "    J22 = -J11\n",
    "    J = np.matrix([[J11,J12],[J21,J22]])\n",
    "    return np.real(np.exp(-dt/(2*tau))*((np.cos(w*dt)*I)+(np.sin(w*dt)*J)))\n",
    "\n",
    "\n",
    "\n",
    "def calcXV(params, sigma_matrix, expM):\n",
    "    N, dt, w, w0, tau = params\n",
    "    x = np.zeros([N,1])\n",
    "    v = np.zeros([N,1])\n",
    "    \n",
    "    sigma2_xx, sigma2_vv, sigma2_xv = sigma_matrix\n",
    "\n",
    "    for j in np.arange(0,N-1):\n",
    "        oldvec = np.array([x[j],v[j]])\n",
    "        randgauss = np.random.randn(2,1)\n",
    "        delx = np.sqrt(sigma2_xx)*randgauss[0]\n",
    "        delv = (sigma2_xv/(np.sqrt(sigma2_xx)))*randgauss[0]+(np.sqrt(sigma2_vv - ((sigma2_xv**2)/(sigma2_xx))))*randgauss[1]\n",
    "        delvec = np.array([delx,delv])\n",
    "        updatevec = np.dot(expM,oldvec)+delvec\n",
    "        x[j+1] = updatevec[0]\n",
    "        v[j+1] = updatevec[1]\n",
    "    return x,v"
   ]
  },
  {
   "cell_type": "code",
   "execution_count": 24,
   "metadata": {
    "collapsed": false
   },
   "outputs": [],
   "source": [
    "#Estimates\n",
    "def estimatorUD(x,v):\n",
    "  \n",
    "    # matrix sufficient statistics\n",
    "    T1_11 = np.sum(x[1:]**2)\n",
    "    T1_12 = np.sum(x[1:]*v[1:])\n",
    "    T1_21 = T1_12\n",
    "    T1_22 = np.sum(v[1:]**2)\n",
    "\n",
    "    T2_11 = np.sum(x[1:]*x[:-1])\n",
    "    T2_12 = np.sum(x[1:]*v[:-1])\n",
    "    T2_21 = np.sum(v[1:]*x[:-1])\n",
    "    T2_22 = np.sum(v[1:]*v[:-1])\n",
    "\n",
    "    T3_11 = np.sum(x[:-1]*x[:-1])\n",
    "    T3_12 = np.sum(x[:-1]*v[:-1])\n",
    "    T3_21 = T3_12\n",
    "    T3_22 = np.sum(v[:-1]*v[:-1])\n",
    "\n",
    "    T1 = np.asanyarray([[T1_11, T1_12],[T1_21, T1_22]])\n",
    "    T2 = np.asanyarray([[T2_11, T2_12],[T2_21, T2_22]])\n",
    "    T3 = np.asanyarray([[T3_11, T3_12],[T3_21, T3_22]])\n",
    "\n",
    "    invT3 = np.linalg.inv(T3)\n",
    "    L = np.dot(T2, invT3) \n",
    "    \n",
    "    S  = (1/N)*(T1 - np.dot(L, np.transpose(T2)))\n",
    "    S2 = np.dot(S,S); iS=np.linalg.inv(S);  \n",
    "    L_t  = L.transpose(); eps  = np.asanyarray([[1,0],[0,-1]])\n",
    "    L_te = np.dot(eps, L_t); Lte2 = np.dot(L_te, L_te)\n",
    "    cc   = np.dot(S, np.linalg.inv(np.eye(2)  - Lte2))\n",
    "\n",
    "    A1   = 0.5*N*S2;    A2 =0.5*N*(np.dot(L, cc) +np.dot(cc, L.transpose()))\n",
    "    A3   = np.dot( np.dot(A2, iS), (T3+N*cc)) + 0.5*N\n",
    "    detA = np.linalg.det(A3)*(np.linalg.det(A1- np.dot(np.dot(A2, np.linalg.inv(A3)), A2)) )\n",
    "\n",
    "    ev0 = 0.5*(-1 + N*np.log(np.linalg.det(iS)/(4*np.pi*np.pi)))\n",
    "    ev1 = -0.5*np.log(detA)\n",
    "\n",
    "    evidence = np.log(2*np.pi) + ev0 + ev1 \n",
    "    \n",
    "    return evidence"
   ]
  },
  {
   "cell_type": "code",
   "execution_count": 25,
   "metadata": {
    "collapsed": false
   },
   "outputs": [],
   "source": [
    "def estimatorOD(x):\n",
    "    T1_11 = np.sum(x[1:]**2)\n",
    "    T2_11 = np.sum(x[1:]*x[:-1])\n",
    "    T3_11 = np.sum(x[:-1]**2)\n",
    "    \n",
    "    T1 = T1_11\n",
    "    T2 = T2_11\n",
    "    T3 = T3_11\n",
    "\n",
    "    invT3     = 1/T3\n",
    "    Sigma_est = (1/N)*(T1 - T2*invT3*T2)   \n",
    "    Sigma2  = Sigma_est*Sigma_est\n",
    "    Sigma_inv = 1/(Sigma_est)\n",
    "    \n",
    "    ev0 = 0.5*(-1 + N*np.log(Sigma_inv/(4*np.pi*np.pi)))\n",
    "    ev1 = -0.5*np.log(0.5*N*Sigma2 + T3*Sigma_inv )\n",
    "    print ev0, ev1\n",
    "    evidence = ev0 + ev1 + np.log(2*np.pi)\n",
    "    \n",
    "    return evidence"
   ]
  },
  {
   "cell_type": "code",
   "execution_count": 26,
   "metadata": {
    "collapsed": false
   },
   "outputs": [],
   "source": [
    "params = (N, dt, w, w0, tau)\n",
    "varM   = calcVarM(params)\n",
    "expM   = calcExpM(params)\n",
    "x, v   = calcXV(params, varM, expM)"
   ]
  },
  {
   "cell_type": "code",
   "execution_count": 27,
   "metadata": {
    "collapsed": false
   },
   "outputs": [
    {
     "name": "stdout",
     "output_type": "stream",
     "text": [
      "-406418.395289 -6.56818977761\n"
     ]
    },
    {
     "data": {
      "text/plain": [
       "0.48720061947185045"
      ]
     },
     "execution_count": 27,
     "metadata": {},
     "output_type": "execute_result"
    }
   ],
   "source": [
    "x1 = estimatorUD(x, v)\n",
    "x2 = estimatorOD(x)\n",
    "x1/x2"
   ]
  },
  {
   "cell_type": "code",
   "execution_count": 28,
   "metadata": {
    "collapsed": false
   },
   "outputs": [
    {
     "data": {
      "text/plain": [
       "[<matplotlib.lines.Line2D at 0x10d24a650>]"
      ]
     },
     "execution_count": 28,
     "metadata": {},
     "output_type": "execute_result"
    },
    {
     "data": {
      "image/png": "[encoded data removed]",
      "text/plain": [
       "<matplotlib.figure.Figure at 0x10cd84e90>"
      ]
     },
     "metadata": {},
     "output_type": "display_data"
    }
   ],
   "source": [
    "plt.plot(x)"
   ]
  },
  {
   "cell_type": "code",
   "execution_count": 29,
   "metadata": {
    "collapsed": false
   },
   "outputs": [
    {
     "data": {
      "text/plain": [
       "[<matplotlib.lines.Line2D at 0x111eab990>]"
      ]
     },
     "execution_count": 29,
     "metadata": {},
     "output_type": "execute_result"
    },
    {
     "data": {
      "image/png": "[encoded data removed]",
      "text/plain": [
       "<matplotlib.figure.Figure at 0x10ce00a10>"
      ]
     },
     "metadata": {},
     "output_type": "display_data"
    }
   ],
   "source": [
    "plt.plot(v)"
   ]
  },
  {
   "cell_type": "code",
   "execution_count": null,
   "metadata": {
    "collapsed": true
   },
   "outputs": [],
   "source": []
  }
 ],
 "metadata": {
  "kernelspec": {
   "display_name": "Python 2",
   "language": "python",
   "name": "python2"
  },
  "language_info": {
   "codemirror_mode": {
    "name": "ipython",
    "version": 2
   },
   "file_extension": ".py",
   "mimetype": "text/x-python",
   "name": "python",
   "nbconvert_exporter": "python",
   "pygments_lexer": "ipython2",
   "version": "2.7.12"
  }
 },
 "nbformat": 4,
 "nbformat_minor": 0
}
