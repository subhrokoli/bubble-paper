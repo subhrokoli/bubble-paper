{
 "cells": [
  {
   "cell_type": "code",
   "execution_count": 61,
   "metadata": {
    "collapsed": false
   },
   "outputs": [],
   "source": [
    "%matplotlib inline\n",
    "from __future__ import division\n",
    "import numpy as np\n",
    "import matplotlib.pyplot as plt\n",
    "from scipy.linalg import logm"
   ]
  },
  {
   "cell_type": "code",
   "execution_count": 62,
   "metadata": {
    "collapsed": false
   },
   "outputs": [],
   "source": [
    "## parameters, UD=underdamped, OD=overdamped\n",
    "N   = 2**20            # # of data points\n",
    "m   = 1                # mass\n",
    "T   = 1                # temperature\n",
    "k   = 1                # stiffness\n",
    "k_B = 1                # Boltzmann constant\n",
    "f_s = 1                # sampling frequency\n",
    "dt  = 1/f_s            # step size\n",
    "g_c = np.sqrt(4*m*k)   # gamma critical\n",
    "g_f = .5               # <1 for UD and >1 for OD\n",
    "g   = g_c*g_f          # gamma\n",
    "w0  = np.sqrt(k/m)     # frequency of UD motion\n",
    "tau = m/g              # relaxation time\n",
    "D   = k_B*T/g          # diffusion constant\n",
    "\n",
    "if g_f >1:\n",
    "    w = 1j*np.sqrt(-(w0**2)+(1/(4*tau*tau))) \n",
    "else:\n",
    "    w = np.sqrt((w0**2)-(1/(4*tau*tau)))\n",
    "\n",
    "params = (N, dt, w, w0, tau, D, k, m, k_B, T)"
   ]
  },
  {
   "cell_type": "code",
   "execution_count": 63,
   "metadata": {
    "collapsed": false
   },
   "outputs": [],
   "source": [
    "def calcSigma(params):\n",
    "    N, dt, w, w0, tau, D, k, m, k_B, T = params\n",
    "    kmw=k/(m*w*w);   dtbt=-dt/tau; ee=np.exp(dtbt);  dd=D/(w*w*tau*tau);  \n",
    "    tt   = w*dt;   cc  = np.cos(tt);  ss=np.sin(tt)\n",
    "    \n",
    "    s1 = (k_B*T/k)*(1-ee*(kmw*ss*ss+(cc+ss/(2*w*tau))**2))\n",
    "    s2 = dd*ee*ss*ss\n",
    "    s3 = (k_B*T/m)*(1-ee*(kmw*ss*ss+(cc-ss/(2*w*tau))**2)) \n",
    "    return np.real(s1), np.real(s3), np.real(s2) \n",
    "\n",
    "\n",
    "def calcLambda(params):\n",
    "    N, dt, w, w0, tau, D, k, m, k_B, T = params\n",
    "    ii  = np.eye(2)\n",
    "    ll = np.asanyarray([[0, -1], [k/m, g/m]])\n",
    "    ee = np.exp(-dt/(2*tau)); wt2=2*w*tau\n",
    "    cc=np.cos(w*dt); ss=np.sin(w*dt) \n",
    "    \n",
    "    Lambda = ee*((cc+ss/wt2)*ii - ll*ss/w ) \n",
    "    return np.real(Lambda)\n",
    "\n",
    "\n",
    "def calcXV(params, Lambda, Sigma):\n",
    "    N, dt, w, w0, tau, D, k, m, k_B, T = params\n",
    "    x = np.zeros([N,1])\n",
    "    v = np.zeros([N,1])\n",
    "    \n",
    "    s1, s3, s2 = Sigma\n",
    "\n",
    "    for j in np.arange(0,N-1):\n",
    "        oldvec = np.array([x[j],v[j]])\n",
    "        randgauss = np.random.randn(2,1)\n",
    "        delx = np.sqrt(s1)*randgauss[0]\n",
    "        delv = (s2/(np.sqrt(s1)))*randgauss[0]+(np.sqrt(s3 - ((s2**2)/(s1))))*randgauss[1]\n",
    "        delvec = np.array([delx,delv])\n",
    "        updatevec = np.dot(Lambda,oldvec)+delvec\n",
    "        x[j+1] = updatevec[0]\n",
    "        v[j+1] = updatevec[1]\n",
    "    return x,v"
   ]
  },
  {
   "cell_type": "code",
   "execution_count": 64,
   "metadata": {
    "collapsed": false
   },
   "outputs": [],
   "source": [
    "params = (N, dt, w, w0, tau, D, k, m, k_B, T)\n",
    "Lambda = calcLambda(params)\n",
    "Sigma  = calcSigma(params)\n",
    "x, v   = calcXV(params, Lambda, Sigma)"
   ]
  },
  {
   "cell_type": "code",
   "execution_count": 65,
   "metadata": {
    "collapsed": false
   },
   "outputs": [],
   "source": [
    "#plt.plot(x);plt.plot(v);"
   ]
  },
  {
   "cell_type": "markdown",
   "metadata": {},
   "source": [
    "## Bayes I"
   ]
  },
  {
   "cell_type": "code",
   "execution_count": 66,
   "metadata": {
    "collapsed": false
   },
   "outputs": [],
   "source": [
    "# matrix sufficient statistics\n",
    "T1_11 = np.sum(x[1:]**2)\n",
    "T1_12 = np.sum(x[1:]*v[1:])\n",
    "T1_21 = T1_12\n",
    "T1_22 = np.sum(v[1:]**2)\n",
    "\n",
    "T2_11 = np.sum(x[1:]*x[:-1])\n",
    "T2_12 = np.sum(x[1:]*v[:-1])\n",
    "T2_21 = np.sum(v[1:]*x[:-1])\n",
    "T2_22 = np.sum(v[1:]*v[:-1])\n",
    "\n",
    "T3_11 = np.sum(x[:-1]*x[:-1])\n",
    "T3_12 = np.sum(x[:-1]*v[:-1])\n",
    "T3_21 = T3_12\n",
    "T3_22 = np.sum(v[:-1]*v[:-1])\n",
    "\n",
    "T1    = np.asanyarray([[T1_11, T1_12],[T1_21, T1_22]])\n",
    "T2    = np.asanyarray([[T2_11, T2_12],[T2_21, T2_22]])\n",
    "T3    = np.asanyarray([[T3_11, T3_12],[T3_21, T3_22]])"
   ]
  },
  {
   "cell_type": "code",
   "execution_count": 67,
   "metadata": {
    "collapsed": false
   },
   "outputs": [],
   "source": [
    "#MAP estimate of Lambda and Sigma\n",
    "\n",
    "invT3     = np.linalg.inv(T3)\n",
    "LambdaMAP = np.dot(T2, invT3)\n",
    "SigmaMAP  = (1/N)*( T1 - np.dot( T2, np.dot(invT3, T2.transpose()) ) )"
   ]
  },
  {
   "cell_type": "code",
   "execution_count": 68,
   "metadata": {
    "collapsed": false
   },
   "outputs": [
    {
     "name": "stdout",
     "output_type": "stream",
     "text": [
      "[[ 0.65952885  0.53362085]\n",
      " [-0.53373082  0.12652342]] \n",
      "[[ 0.28036001  0.28503431]\n",
      " [ 0.28503431  0.70042811]] \n",
      "[[  9.99533690e-01   9.80490846e-04]\n",
      " [  6.35690929e-04   1.00152369e+00]]\n"
     ]
    }
   ],
   "source": [
    "#MAP estimate of c using Onsager-Casimir symmetry\n",
    "\n",
    "L_t  = LambdaMAP.transpose()\n",
    "eps  = np.asanyarray([[1,0],[0,-1]])\n",
    "\n",
    "L_te = np.dot(eps, L_t)\n",
    "Lte2 = np.dot(L_te, L_te)\n",
    "\n",
    "II   = np.eye(2)\n",
    "cc   = np.linalg.inv(II - Lte2)\n",
    "cMAP = np.dot(SigmaMAP, cc)\n",
    "\n",
    "print LambdaMAP, '\\n', SigmaMAP, '\\n', cMAP"
   ]
  },
  {
   "cell_type": "code",
   "execution_count": 69,
   "metadata": {
    "collapsed": false
   },
   "outputs": [
    {
     "name": "stdout",
     "output_type": "stream",
     "text": [
      "0.998478630186 1.0004665271 0.998803148808\n",
      "\n",
      "1 1 1.0 1.0 1.0\n"
     ]
    }
   ],
   "source": [
    "#MAP estimate of k and m and gamma\n",
    "\n",
    "ll = -logm(LambdaMAP)/dt\n",
    "\n",
    "m_MAP = k_B*T/cMAP[1,1]\n",
    "k_MAP = k_B*T/cMAP[0,0]\n",
    "g_MAP = m*ll[1,1]\n",
    "\n",
    "\n",
    "print m_MAP, k_MAP, g_MAP\n",
    "print \n",
    "print m, k, g, k_B*T/k, k_B*T/k"
   ]
  },
  {
   "cell_type": "markdown",
   "metadata": {},
   "source": [
    "## Bayes II"
   ]
  },
  {
   "cell_type": "code",
   "execution_count": 70,
   "metadata": {
    "collapsed": false
   },
   "outputs": [
    {
     "name": "stdout",
     "output_type": "stream",
     "text": [
      "[[  1.00121542e+00   1.85599362e-04]\n",
      " [  1.85599362e-04   1.00165247e+00]] \n",
      "0.998786056284 0.998350252413\n"
     ]
    }
   ],
   "source": [
    "#MAP estimate of c using Bayes II\n",
    "c_B2 = T3/N\n",
    "\n",
    "k_B2 = k_B*T/c_B2[0,0]\n",
    "m_B2 = k_B*T/c_B2[1,1]\n",
    "\n",
    "print c_B2, '\\n', k_B2, m_B2"
   ]
  }
 ],
 "metadata": {
  "kernelspec": {
   "display_name": "Python 2",
   "language": "python",
   "name": "python2"
  },
  "language_info": {
   "codemirror_mode": {
    "name": "ipython",
    "version": 2
   },
   "file_extension": ".py",
   "mimetype": "text/x-python",
   "name": "python",
   "nbconvert_exporter": "python",
   "pygments_lexer": "ipython2",
   "version": "2.7.12"
  }
 },
 "nbformat": 4,
 "nbformat_minor": 0
}
