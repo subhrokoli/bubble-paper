{
 "cells": [
  {
   "cell_type": "code",
   "execution_count": 27,
   "metadata": {
    "collapsed": true
   },
   "outputs": [],
   "source": [
    "%matplotlib inline\n",
    "from __future__ import division\n",
    "import numpy as np\n",
    "import matplotlib.pyplot as plt\n",
    "import matplotlib.gridspec as gridspec\n",
    "from scipy import stats\n",
    "from scipy.optimize import fsolve"
   ]
  },
  {
   "cell_type": "code",
   "execution_count": 28,
   "metadata": {
    "collapsed": false
   },
   "outputs": [],
   "source": [
    "## parameters, UD=underdamped, OD=overdamped\n",
    "N   = 2**15            # # of data points\n",
    "m   = 1                # mass\n",
    "T   = 1                # temperature\n",
    "k   = 1                # stiffness\n",
    "k_B = 1                # Boltzmann constant\n",
    "f_s = 1                # sampling frequency\n",
    "dt  = 1/f_s            # step size\n",
    "g_c = np.sqrt(4*m*k)   # critical gamma\n",
    "g_f = .5               # <1 for UD and >1 for OD\n",
    "g   = g_c*g_f          # gamma\n",
    "w0  = np.sqrt(k/m)     # frequency of UD motion\n",
    "tau = m/g              # relaxation time\n",
    "D   = k_B*T/g          # diffusion constant\n",
    "\n",
    "if g_f >1:\n",
    "    w = 1j*np.sqrt(-(w0**2)+(1/(4*tau*tau))) \n",
    "else:\n",
    "    w = np.sqrt((w0**2)-(1/(4*tau*tau)))\n",
    "\n",
    "simparams = (N, dt, w, w0, tau)"
   ]
  },
  {
   "cell_type": "code",
   "execution_count": 29,
   "metadata": {
    "collapsed": true
   },
   "outputs": [],
   "source": [
    "def sigmamatrix(simparams):\n",
    "    N, dt, w, w0, tau = simparams\n",
    "    tt   = 2*w*dt;  w02  = w0*w0;  w2 = w*w\n",
    "    tau2 = tau*tau; tau3 = tau2*tau; dtbt=-dt/tau\n",
    "    wt2=w2*tau2; dd=D/(wt2); dd1=dd/(4*w02*tau); dd2=dd/(4*tau)\n",
    "\n",
    "    ss1 = np.cos(tt) - (2*w*tau*np.sin(tt)) - (4*w02*tau2)\n",
    "    ss2 = np.cos(tt) + (2*w*tau*np.sin(tt)) - (4*w02*tau2)\n",
    "\n",
    "    sigma2_xx = dd1*(4*w2*tau2 + np.exp(dtbt)*ss1)\n",
    "    sigma2_vv = dd2*(4*w2*tau2 + np.exp(dtbt)*ss2)\n",
    "    sigma2_xv = dd*np.exp(dtbt)*np.sin(w*dt)*np.sin(w*dt)\n",
    "    return np.real(sigma2_xx), np.real(sigma2_vv), np.real(sigma2_xv)    \n",
    "sigma_matrix = sigmamatrix(simparams)\n",
    "\n",
    "\n",
    "def explambda(simparams):\n",
    "    N, dt, w, w0, tau = simparams\n",
    "    I = np.eye(2)\n",
    "    J11 =(1/(2*w*tau))\n",
    "    J12 = (1/w)\n",
    "    J21 = -(w0**2)/w\n",
    "    J22 = -J11\n",
    "    J = np.matrix([[J11,J12],[J21,J22]])\n",
    "    return np.real(np.exp(-dt/(2*tau))*((np.cos(w*dt)*I)+(np.sin(w*dt)*J)))\n",
    "expM = explambda(simparams)\n",
    "\n",
    "\n",
    "def simxv(simparams, sigma_matrix, expM):\n",
    "    N, dt, w, w0, tau = simparams\n",
    "    x = np.zeros([N,1])\n",
    "    v = np.zeros([N,1])\n",
    "    \n",
    "    sigma2_xx, sigma2_vv, sigma2_xv = sigma_matrix\n",
    "\n",
    "    for j in np.arange(0,N-1):\n",
    "        oldvec = np.array([x[j],v[j]])\n",
    "        randgauss = np.random.randn(2,1)\n",
    "        delx = np.sqrt(sigma2_xx)*randgauss[0]\n",
    "        delv = (sigma2_xv/(np.sqrt(sigma2_xx)))*randgauss[0]+(np.sqrt(sigma2_vv - ((sigma2_xv**2)/(sigma2_xx))))*randgauss[1]\n",
    "        delvec = np.array([delx,delv])\n",
    "        updatevec = np.dot(expM,oldvec)+delvec\n",
    "        x[j+1] = updatevec[0]\n",
    "        v[j+1] = updatevec[1]\n",
    "    return x,v"
   ]
  },
  {
   "cell_type": "code",
   "execution_count": 30,
   "metadata": {
    "collapsed": false
   },
   "outputs": [],
   "source": [
    "simparams = (N, dt, w, w0, tau)\n",
    "sigma_matrix = sigmamatrix(simparams)\n",
    "expM = explambda(simparams)\n",
    "x, v = simxv(simparams, sigma_matrix, expM)"
   ]
  },
  {
   "cell_type": "code",
   "execution_count": 31,
   "metadata": {
    "collapsed": false
   },
   "outputs": [
    {
     "data": {
      "image/png": "[encoded data removed]",
      "text/plain": [
       "<matplotlib.figure.Figure at 0x10ead2850>"
      ]
     },
     "metadata": {},
     "output_type": "display_data"
    }
   ],
   "source": [
    "plt.plot(x);"
   ]
  },
  {
   "cell_type": "code",
   "execution_count": 32,
   "metadata": {
    "collapsed": false
   },
   "outputs": [
    {
     "data": {
      "image/png": "[encoded data removed]",
      "text/plain": [
       "<matplotlib.figure.Figure at 0x10eff9f50>"
      ]
     },
     "metadata": {},
     "output_type": "display_data"
    }
   ],
   "source": [
    "plt.plot(v);"
   ]
  },
  {
   "cell_type": "code",
   "execution_count": 33,
   "metadata": {
    "collapsed": false
   },
   "outputs": [
    {
     "data": {
      "text/plain": [
       "array([[ 22030.48163307,  17540.91651554],\n",
       "       [-17546.11571301,   4222.22702909]])"
      ]
     },
     "execution_count": 33,
     "metadata": {},
     "output_type": "execute_result"
    }
   ],
   "source": [
    "#matrix sufficient statistics\n",
    "T1_11 = np.sum(x[1:]**2)\n",
    "T1_12 = np.sum(x[1:]*v[1:])\n",
    "T1_21 = T1_12\n",
    "T1_22 = np.sum(v[1:]**2)\n",
    "\n",
    "T2_11 = np.sum(x[1:]*x[:-1])\n",
    "T2_12 = np.sum(x[1:]*v[:-1])\n",
    "T2_21 = np.sum(v[1:]*x[:-1])\n",
    "T2_22 = np.sum(v[1:]*v[:-1])\n",
    "\n",
    "T3_11 = np.sum(x[:-1]*x[:-1])\n",
    "T3_12 = np.sum(x[:-1]*v[:-1])\n",
    "T3_21 = T3_12\n",
    "T3_22 = np.sum(v[:-1]*v[:-1])\n",
    "\n",
    "\n",
    "T1 = np.asanyarray([[T1_11,T1_12],[T1_21,T1_22]])\n",
    "T2 = np.asanyarray([[T2_11,T2_12],[T2_21,T2_22]])\n",
    "T3 = np.asanyarray([[T3_11,T3_12],[T3_21,T3_22]])\n",
    "T2"
   ]
  },
  {
   "cell_type": "code",
   "execution_count": 34,
   "metadata": {
    "collapsed": false
   },
   "outputs": [
    {
     "name": "stdout",
     "output_type": "stream",
     "text": [
      "[[ 0.28122164  0.28632653]\n",
      " [ 0.28632653  0.70495068]]\n"
     ]
    }
   ],
   "source": [
    "#MAP estimate of Sigma matrix\n",
    "invT3 = np.linalg.inv(T3)\n",
    "\n",
    "Sigma_est = (1/N)*(T1 - np.dot(T2, np.dot( invT3, T2.transpose())))\n",
    "print Sigma_est "
   ]
  },
  {
   "cell_type": "code",
   "execution_count": 35,
   "metadata": {
    "collapsed": false
   },
   "outputs": [],
   "source": [
    "#MAP estimate of Sigma matrix\n",
    "\n",
    "invT3 = np.linalg.inv(T3)\n",
    "Sigma_est = (1/N)*(T1 - np.dot(T2, np.dot( invT3, T2.transpose())))\n",
    "#print Sigma_est "
   ]
  },
  {
   "cell_type": "code",
   "execution_count": 48,
   "metadata": {
    "collapsed": false
   },
   "outputs": [],
   "source": [
    "#MAP estimate of Lambda matrix\n",
    "\n",
    "Lambda_exp =Lambda_exp = np.dot( T2, invT3)\n",
    "#print Lambda_exp"
   ]
  },
  {
   "cell_type": "code",
   "execution_count": 49,
   "metadata": {
    "collapsed": false
   },
   "outputs": [
    {
     "name": "stdout",
     "output_type": "stream",
     "text": [
      "0.986482841825\n",
      "0.99544498618\n",
      "0.997779825926\n"
     ]
    }
   ],
   "source": [
    "#MAP estimate of k and m and gamma\n",
    "\n",
    "coeffmat = np.matrix([[1-(Lambda_exp[0,0]**2),-Lambda_exp[0,1]**2],[-Lambda_exp[1,0]**2,1-(Lambda_exp[1,1]**2)]])\n",
    "invcoeffmat = np.linalg.inv(coeffmat) # inverse of RHS Matrix\n",
    "sigvec = np.array([Sigma_est[0,0],Sigma_est[1,1]]) #RHS vector\n",
    "cvec = np.dot(invcoeffmat,sigvec) #LHS vector (solution)\n",
    "\n",
    "#The solution vector is [k_B*T/k, k_B*T/m]\n",
    "\n",
    "k_est_inv = (k_B*T)/cvec[0,0] \n",
    "m_est_inv = (k_B*T)/cvec[0,1]\n",
    "gamma_est_inv = (Sigma_est[0,1]*(m_est_inv**2))/(k_B*T*(Lambda_exp[0,1]**2))\n",
    "\n",
    "print k_est_inv\n",
    "print m_est_inv\n",
    "print gamma_est_inv "
   ]
  },
  {
   "cell_type": "code",
   "execution_count": 50,
   "metadata": {
    "collapsed": false
   },
   "outputs": [
    {
     "name": "stdout",
     "output_type": "stream",
     "text": [
      "[[ 1.01370238  0.        ]\n",
      " [ 0.          1.00457586]]\n"
     ]
    }
   ],
   "source": [
    "# Print c matrix obtained from result in appendix\n",
    "print np.matrix([[cvec[0,0],0],[0,cvec[0,1]]]) "
   ]
  },
  {
   "cell_type": "code",
   "execution_count": 51,
   "metadata": {
    "collapsed": false
   },
   "outputs": [
    {
     "name": "stdout",
     "output_type": "stream",
     "text": [
      "[[ 0.11667613 -0.05424926]\n",
      " [ 0.48109061  1.01298965]]\n"
     ]
    }
   ],
   "source": [
    "#using Onsages Casimir symmetry\n",
    "\n",
    "Lambda_exp2 = np.dot(Lambda_exp, Lambda_exp)\n",
    "Lambda_exp2 = Lambda_exp2.transpose()\n",
    "epsilon = np.asanyarray([[1,0],[0,-1]])\n",
    "Eeps = np.dot( Lambda_exp2, epsilon)\n",
    "c_Onsager =(np.eye(2) - np.dot(epsilon, Eeps))\n",
    "c_Onsager = np.dot(c_Onsager, Sigma_est)\n",
    "\n",
    "print c_Onsager"
   ]
  },
  {
   "cell_type": "code",
   "execution_count": null,
   "metadata": {
    "collapsed": true
   },
   "outputs": [],
   "source": []
  },
  {
   "cell_type": "code",
   "execution_count": null,
   "metadata": {
    "collapsed": true
   },
   "outputs": [],
   "source": []
  }
 ],
 "metadata": {
  "kernelspec": {
   "display_name": "Python 2",
   "language": "python",
   "name": "python2"
  },
  "language_info": {
   "codemirror_mode": {
    "name": "ipython",
    "version": 2
   },
   "file_extension": ".py",
   "mimetype": "text/x-python",
   "name": "python",
   "nbconvert_exporter": "python",
   "pygments_lexer": "ipython2",
   "version": "2.7.12"
  }
 },
 "nbformat": 4,
 "nbformat_minor": 0
}
