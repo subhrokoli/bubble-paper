{
 "cells": [
  {
   "cell_type": "code",
   "execution_count": 1,
   "metadata": {
    "collapsed": true
   },
   "outputs": [],
   "source": [
    "%matplotlib inline\n",
    "from __future__ import division\n",
    "import numpy as np\n",
    "import matplotlib.pyplot as plt"
   ]
  },
  {
   "cell_type": "code",
   "execution_count": 2,
   "metadata": {
    "collapsed": false
   },
   "outputs": [],
   "source": [
    "## parameters, UD=underdamped, OD=overdamped\n",
    "N   = 2**18            # # of data points\n",
    "m   = 1                # mass\n",
    "T   = 1                # temperature\n",
    "k   = 1                # stiffness\n",
    "k_B = 1                # Boltzmann constant\n",
    "f_s = 1                # sampling frequency\n",
    "dt  = 1/f_s            # step size\n",
    "g_c = np.sqrt(4*m*k)   # gamma critical\n",
    "g_f = .5               # <1 for UD and >1 for OD\n",
    "g   = g_c*g_f          # gamma\n",
    "w0  = np.sqrt(k/m)     # frequency of UD motion\n",
    "tau = m/g              # relaxation time\n",
    "D   = k_B*T/g          # diffusion constant\n",
    "\n",
    "if g_f >1:\n",
    "    w = 1j*np.sqrt(-(w0**2)+(1/(4*tau*tau))) \n",
    "else:\n",
    "    w = np.sqrt((w0**2)-(1/(4*tau*tau)))\n",
    "\n",
    "params = (N, dt, w, w0, tau)"
   ]
  },
  {
   "cell_type": "code",
   "execution_count": 3,
   "metadata": {
    "collapsed": true
   },
   "outputs": [],
   "source": [
    "def calcVarM(params):\n",
    "    N, dt, w, w0, tau = params\n",
    "    tt   = 2*w*dt;  w02  = w0*w0;  w2 = w*w\n",
    "    tau2 = tau*tau; tau3 = tau2*tau; dtbt=-dt/tau\n",
    "    wt2=w2*tau2; dd=D/(wt2); dd1=dd/(4*w02*tau); dd2=dd/(4*tau)\n",
    "\n",
    "    ss1 = np.cos(tt) - (2*w*tau*np.sin(tt)) - (4*w02*tau2)\n",
    "    ss2 = np.cos(tt) + (2*w*tau*np.sin(tt)) - (4*w02*tau2)\n",
    "\n",
    "    sigma2_xx = dd1*(4*w2*tau2 + np.exp(dtbt)*ss1)\n",
    "    sigma2_vv = dd2*(4*w2*tau2 + np.exp(dtbt)*ss2)\n",
    "    sigma2_xv = dd*np.exp(dtbt)*np.sin(w*dt)*np.sin(w*dt)\n",
    "    return np.real(sigma2_xx), np.real(sigma2_vv), np.real(sigma2_xv)    \n",
    "\n",
    "\n",
    "def calcExpM(params):\n",
    "    N, dt, w, w0, tau = params\n",
    "    I = np.eye(2)\n",
    "    J11 =(1/(2*w*tau))\n",
    "    J12 = (1/w)\n",
    "    J21 = -(w0**2)/w\n",
    "    J22 = -J11\n",
    "    J = np.matrix([[J11,J12],[J21,J22]])\n",
    "    return np.real(np.exp(-dt/(2*tau))*((np.cos(w*dt)*I)+(np.sin(w*dt)*J)))\n",
    "\n",
    "\n",
    "def calcXV(params, sigma_matrix, expM):\n",
    "    N, dt, w, w0, tau = params\n",
    "    x = np.zeros([N,1])\n",
    "    v = np.zeros([N,1])\n",
    "    \n",
    "    sigma2_xx, sigma2_vv, sigma2_xv = sigma_matrix\n",
    "\n",
    "    for j in np.arange(0,N-1):\n",
    "        oldvec = np.array([x[j],v[j]])\n",
    "        randgauss = np.random.randn(2,1)\n",
    "        delx = np.sqrt(sigma2_xx)*randgauss[0]\n",
    "        delv = (sigma2_xv/(np.sqrt(sigma2_xx)))*randgauss[0]+(np.sqrt(sigma2_vv - ((sigma2_xv**2)/(sigma2_xx))))*randgauss[1]\n",
    "        delvec = np.array([delx,delv])\n",
    "        updatevec = np.dot(expM,oldvec)+delvec\n",
    "        x[j+1] = updatevec[0]\n",
    "        v[j+1] = updatevec[1]\n",
    "    return x,v"
   ]
  },
  {
   "cell_type": "code",
   "execution_count": 4,
   "metadata": {
    "collapsed": false
   },
   "outputs": [],
   "source": [
    "params = (N, dt, w, w0, tau)\n",
    "varM   = calcVarM(params)\n",
    "expM   = calcExpM(params)\n",
    "x, v   = calcXV(params, varM, expM)"
   ]
  },
  {
   "cell_type": "code",
   "execution_count": 5,
   "metadata": {
    "collapsed": false
   },
   "outputs": [
    {
     "data": {
      "image/png": "[encoded data removed]",
      "text/plain": [
       "<matplotlib.figure.Figure at 0x7f27954196d0>"
      ]
     },
     "metadata": {},
     "output_type": "display_data"
    }
   ],
   "source": [
    "plt.plot(x);"
   ]
  },
  {
   "cell_type": "code",
   "execution_count": 6,
   "metadata": {
    "collapsed": false
   },
   "outputs": [
    {
     "data": {
      "image/png": "[encoded data removed]",
      "text/plain": [
       "<matplotlib.figure.Figure at 0x7f27954032d0>"
      ]
     },
     "metadata": {},
     "output_type": "display_data"
    }
   ],
   "source": [
    "plt.plot(v);"
   ]
  },
  {
   "cell_type": "code",
   "execution_count": 7,
   "metadata": {
    "collapsed": false
   },
   "outputs": [
    {
     "name": "stdout",
     "output_type": "stream",
     "text": [
      "[[  1.00236938e+00  -7.14020255e-04]\n",
      " [ -7.14020255e-04   9.99133436e-01]]\n"
     ]
    }
   ],
   "source": [
    "# matrix sufficient statistics\n",
    "T1_11 = np.sum(x[1:]**2)\n",
    "T1_12 = np.sum(x[1:]*v[1:])\n",
    "T1_21 = T1_12\n",
    "T1_22 = np.sum(v[1:]**2)\n",
    "\n",
    "T2_11 = np.sum(x[1:]*x[:-1])\n",
    "T2_12 = np.sum(x[1:]*v[:-1])\n",
    "T2_21 = np.sum(v[1:]*x[:-1])\n",
    "T2_22 = np.sum(v[1:]*v[:-1])\n",
    "\n",
    "T3_11 = np.sum(x[:-1]*x[:-1])\n",
    "T3_12 = np.sum(x[:-1]*v[:-1])\n",
    "T3_21 = T3_12\n",
    "T3_22 = np.sum(v[:-1]*v[:-1])\n",
    "\n",
    "T1    = np.asanyarray([[T1_11, T1_12],[T1_21, T1_22]])\n",
    "T2    = np.asanyarray([[T2_11, T2_12],[T2_21, T2_22]])\n",
    "T3    = np.asanyarray([[T3_11, T3_12],[T3_21, T3_22]])"
   ]
  },
  {
   "cell_type": "code",
   "execution_count": 8,
   "metadata": {
    "collapsed": false
   },
   "outputs": [],
   "source": [
    "#MAP estimate of Lambda and Sigma\n",
    "\n",
    "invT3      = np.linalg.inv(T3)\n",
    "Lambda_est = np.dot(T2, invT3)\n",
    "Sigma_est  = (1/N)*( T1 - np.dot( T2, np.dot(invT3, T2.transpose()) ) )"
   ]
  },
  {
   "cell_type": "code",
   "execution_count": 9,
   "metadata": {
    "collapsed": false
   },
   "outputs": [
    {
     "name": "stdout",
     "output_type": "stream",
     "text": [
      "0.996640428555\n",
      "1.00067537073\n",
      "1.00021944321\n"
     ]
    }
   ],
   "source": [
    "#MAP estimate of k and m and gamma\n",
    "\n",
    "coeff     = np.matrix([[1-(Lambda_est[0,0]**2),-Lambda_est[0,1]**2],[-Lambda_est[1,0]**2,1-(Lambda_est[1,1]**2)]])\n",
    "invCoeff  = np.linalg.inv(coeff) \n",
    "sigvec    = np.asanyarray([Sigma_est[0,0],Sigma_est[1,1]])  \n",
    "cvec      = np.dot(invCoeff,sigvec)  \n",
    "\n",
    "k_est     = (k_B*T)/cvec[0,0] \n",
    "m_est     = (k_B*T)/cvec[0,1]\n",
    "gamma_est = (Sigma_est[0,1]*(m_est**2))/(k_B*T*(Lambda_est[0,1]**2))\n",
    "\n",
    "print k_est\n",
    "print m_est\n",
    "print gamma_est "
   ]
  },
  {
   "cell_type": "code",
   "execution_count": 10,
   "metadata": {
    "collapsed": false
   },
   "outputs": [
    {
     "name": "stdout",
     "output_type": "stream",
     "text": [
      "[[ 1.0033709   0.        ]\n",
      " [ 0.          0.99932509]]\n"
     ]
    }
   ],
   "source": [
    "# Print c matrix obtained from result in appendix\n",
    "\n",
    "print np.asanyarray([[cvec[0,0],0],[0,cvec[0,1]]]) "
   ]
  },
  {
   "cell_type": "code",
   "execution_count": 11,
   "metadata": {
    "collapsed": false
   },
   "outputs": [
    {
     "name": "stdout",
     "output_type": "stream",
     "text": [
      "[[ 1.00594851 -0.00278188]\n",
      " [-0.00806167  1.00270555]]\n"
     ]
    }
   ],
   "source": [
    "#MAP estimate of c using Onsager-Casimir symmetry\n",
    "\n",
    "L_t  = Lambda_est.transpose()\n",
    "eps  = np.asanyarray([[1,0],[0,-1]])\n",
    "\n",
    "L_te = np.dot(eps, L_t)\n",
    "Lte2 = np.dot(L_te, L_te)\n",
    "\n",
    "II   = np.eye(2)\n",
    "cc   = np.linalg.inv(II - Lte2)\n",
    "c_OC = np.dot(Sigma_est, cc)\n",
    "\n",
    "print c_OC"
   ]
  },
  {
   "cell_type": "code",
   "execution_count": 12,
   "metadata": {
    "collapsed": false
   },
   "outputs": [
    {
     "name": "stdout",
     "output_type": "stream",
     "text": [
      "[[  1.00236938e+00  -7.14020255e-04]\n",
      " [ -7.14020255e-04   9.99133436e-01]]\n"
     ]
    }
   ],
   "source": [
    "#MAP estimate of c using Bayes II\n",
    "\n",
    "print T3/N"
   ]
  },
  {
   "cell_type": "code",
   "execution_count": null,
   "metadata": {
    "collapsed": true
   },
   "outputs": [],
   "source": []
  }
 ],
 "metadata": {
  "kernelspec": {
   "display_name": "Python [Root]",
   "language": "python",
   "name": "Python [Root]"
  },
  "language_info": {
   "codemirror_mode": {
    "name": "ipython",
    "version": 2
   },
   "file_extension": ".py",
   "mimetype": "text/x-python",
   "name": "python",
   "nbconvert_exporter": "python",
   "pygments_lexer": "ipython2",
   "version": "2.7.12"
  }
 },
 "nbformat": 4,
 "nbformat_minor": 0
}
